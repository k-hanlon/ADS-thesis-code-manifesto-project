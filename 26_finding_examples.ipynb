{
 "cells": [
  {
   "cell_type": "code",
   "execution_count": null,
   "metadata": {},
   "outputs": [],
   "source": [
    "import numpy as np\n",
    "import pandas as pd\n",
    "from scipy.sparse import csr_matrix\n",
    "from scipy.sparse import coo_matrix\n",
    "from scipy.sparse import save_npz, load_npz\n",
    "import matplotlib.pyplot as plt\n",
    "import seaborn as sns"
   ]
  },
  {
   "cell_type": "code",
   "execution_count": null,
   "metadata": {},
   "outputs": [],
   "source": [
    "# Set display options to show full contents of each column\n",
    "pd.set_option('display.max_colwidth', None)\n",
    "pd.set_option('display.max_columns', None)\n",
    "# reverse with:\n",
    "# pd.reset_option('display.max_colwidth')"
   ]
  },
  {
   "cell_type": "code",
   "execution_count": null,
   "metadata": {},
   "outputs": [],
   "source": [
    "## Setting up the similarity df\n",
    "\n",
    "# load the sparse matrix with the extreme similarity values:\n",
    "cs_sparse = load_npz('data/cos_sim_output_08_mpnet.npz')\n",
    "\n",
    "# also load the full corpus df, so that we can add create a df with q_sentences, information and their similarity score for extreme values\n",
    "corpus_df_full = pd.read_csv(\"data/english_annotated_full_df.csv\")\n",
    "cs_sparse\n",
    "# convert the sparse matrix into a useful df:\n",
    "cs_sparse = coo_matrix(cs_sparse)\n",
    "data = {\n",
    "    'index_x': cs_sparse.row,\n",
    "    'index_y': cs_sparse.col,\n",
    "    'cosine_similarity': cs_sparse.data\n",
    "}\n",
    "\n",
    "cosine_sim_df = pd.DataFrame(data)\n",
    "cosine_sim_df.head(2)\n",
    "cosine_sim_df.shape\n",
    "corpus_df = corpus_df_full[['q_sentence', \"q_sentence_nr\", 'main_codes', 'coderid', 'manifesto_id', 'party', 'date',\n",
    "        'title', 'countryname', 'partyname', 'RILE']]\n",
    "\n",
    "# append the columns from the corpus_df, so that we get the info for both quasi sentences\n",
    "cosine_sim_df = pd.merge(cosine_sim_df, corpus_df, left_on='index_x', right_index=True, how='left')\n",
    "cosine_sim_df = pd.merge(cosine_sim_df, corpus_df, left_on='index_y', right_index=True, how='left')"
   ]
  },
  {
   "cell_type": "code",
   "execution_count": null,
   "metadata": {},
   "outputs": [],
   "source": [
    "cosine_sim_df.head(1)"
   ]
  },
  {
   "cell_type": "code",
   "execution_count": null,
   "metadata": {},
   "outputs": [],
   "source": [
    "cosine_sim_df.shape"
   ]
  },
  {
   "cell_type": "code",
   "execution_count": null,
   "metadata": {},
   "outputs": [],
   "source": [
    "# load the MP q_sentence data and the party split info\n",
    "split_df = pd.read_csv(\"data/party_split.csv\").drop(columns=\"migration_positive\")\n",
    "\n",
    "# replace NAs in left_right with \"Unknown\"\n",
    "split_df['left_right'] = split_df['left_right'].fillna(\"Unknown\")\n",
    "# Recode the columns\n",
    "# LEFT = 1, CENTER = 0, RIGHT = 2, Unknown = -1 --> similar to RILE coding in the corpus_dfs\n",
    "left_right_dict = {\"Far-left\": 1,\n",
    "                   \"Left\": 1,\n",
    "                   \"Center-left\": 1,\n",
    "                   \"Center\": 0,\n",
    "                   \"Center-right\": 2,\n",
    "                   \"Right\": 2,\n",
    "                   \"Unknown\": -1}\n",
    "split_df = split_df.assign(left_right  = split_df.left_right.map(left_right_dict))\n",
    "\n",
    "# Green = 1\n",
    "green_dict = {\"Yes\": 1,\n",
    "              \"No\": 0}\n",
    "split_df = split_df.assign(green  = split_df.green.map(green_dict))\n",
    "\n",
    "split_lr = split_df[[\"manifesto_id\", \"left_right\"]]\n",
    "split_green = split_df[[\"manifesto_id\", \"green\"]]"
   ]
  },
  {
   "cell_type": "code",
   "execution_count": null,
   "metadata": {},
   "outputs": [],
   "source": [
    "# join the info about the party association to the similarity df:\n",
    "df = cosine_sim_df.merge(split_lr, left_on = \"manifesto_id_x\", right_on = \"manifesto_id\").drop(columns=\"manifesto_id\")\n",
    "df.rename(columns={\"left_right\": \"left_right_party_x\"}, inplace=True)\n",
    "df = df.merge(split_lr, left_on = \"manifesto_id_y\", right_on = \"manifesto_id\").drop(columns=\"manifesto_id\")\n",
    "df.rename(columns={\"left_right\": \"left_right_party_y\"}, inplace=True)\n",
    "\n",
    "df = df.merge(split_green, left_on = \"manifesto_id_x\", right_on = \"manifesto_id\").drop(columns=\"manifesto_id\")\n",
    "df.rename(columns={\"green\": \"green_party_x\"}, inplace=True)\n",
    "df = df.merge(split_green, left_on = \"manifesto_id_y\", right_on = \"manifesto_id\").drop(columns=\"manifesto_id\")\n",
    "df.rename(columns={\"green\": \"green_party_y\"}, inplace=True)\n",
    "\n",
    "# get rid of uneccesary columns\n",
    "df = df.drop(columns=[\"index_x\", \"index_y\", \"party_x\", \"party_y\", \"date_x\", \"date_y\"])"
   ]
  },
  {
   "cell_type": "code",
   "execution_count": null,
   "metadata": {},
   "outputs": [],
   "source": [
    "df.head(1)"
   ]
  },
  {
   "cell_type": "markdown",
   "metadata": {},
   "source": [
    "### Finding examples: Green party splits\n",
    "\n",
    "1: Green party gets assigned 501, other party gets assigned 703"
   ]
  },
  {
   "cell_type": "code",
   "execution_count": null,
   "metadata": {},
   "outputs": [],
   "source": [
    "tmp = df[( (df[\"green_party_x\"] == 1) & (df[\"green_party_y\"] == 0) & (df[\"main_codes_x\"] == 501) & (df[\"main_codes_y\"] == 703) ) | \n",
    "         ( (df[\"green_party_x\"] == 0) & (df[\"green_party_y\"] == 1) & (df[\"main_codes_x\"] == 703) & (df[\"main_codes_y\"] == 501) )]"
   ]
  },
  {
   "cell_type": "code",
   "execution_count": null,
   "metadata": {},
   "outputs": [],
   "source": [
    "tmp.shape"
   ]
  },
  {
   "cell_type": "code",
   "execution_count": null,
   "metadata": {},
   "outputs": [],
   "source": [
    "# some examples from the same coder!\n",
    "tmp[tmp[\"coderid_x\"] == tmp[\"coderid_y\"]].shape"
   ]
  },
  {
   "cell_type": "code",
   "execution_count": null,
   "metadata": {},
   "outputs": [],
   "source": [
    "#expand to see more\n",
    "tmp.head(1)"
   ]
  },
  {
   "cell_type": "code",
   "execution_count": null,
   "metadata": {},
   "outputs": [],
   "source": [
    "tmp[tmp[\"coderid_x\"] == tmp[\"coderid_y\"]].head()"
   ]
  },
  {
   "cell_type": "markdown",
   "metadata": {},
   "source": [
    "opposite examples:"
   ]
  },
  {
   "cell_type": "code",
   "execution_count": null,
   "metadata": {},
   "outputs": [],
   "source": [
    "tmp = df[( (df[\"green_party_x\"] == 1) & (df[\"green_party_y\"] == 0) & (df[\"main_codes_x\"] == 703) & (df[\"main_codes_y\"] == 501) ) | \n",
    "         ( (df[\"green_party_x\"] == 0) & (df[\"green_party_y\"] == 1) & (df[\"main_codes_x\"] == 501) & (df[\"main_codes_y\"] == 703) )]\n",
    "tmp.shape"
   ]
  },
  {
   "cell_type": "markdown",
   "metadata": {},
   "source": [
    "2: Green party gets 416, non-Green party gets 501"
   ]
  },
  {
   "cell_type": "code",
   "execution_count": null,
   "metadata": {},
   "outputs": [],
   "source": [
    "tmp = df[( (df[\"green_party_x\"] == 1) & (df[\"green_party_y\"] == 0) & (df[\"main_codes_x\"] == 416) & (df[\"main_codes_y\"] == 501) ) | \n",
    "         ( (df[\"green_party_x\"] == 0) & (df[\"green_party_y\"] == 1) & (df[\"main_codes_x\"] == 501) & (df[\"main_codes_y\"] == 416) )]"
   ]
  },
  {
   "cell_type": "code",
   "execution_count": null,
   "metadata": {},
   "outputs": [],
   "source": [
    "tmp.shape"
   ]
  },
  {
   "cell_type": "code",
   "execution_count": null,
   "metadata": {},
   "outputs": [],
   "source": [
    "# so even a lot of examples from the same coder!\n",
    "tmp[tmp[\"coderid_x\"] == tmp[\"coderid_y\"]].shape"
   ]
  },
  {
   "cell_type": "code",
   "execution_count": null,
   "metadata": {},
   "outputs": [],
   "source": [
    "# go through the instances:\n",
    "tmp.sort_values(by=\"cosine_similarity\", ascending=False).iloc[10:40]"
   ]
  },
  {
   "cell_type": "markdown",
   "metadata": {},
   "source": [
    "oppopsite examples:"
   ]
  },
  {
   "cell_type": "code",
   "execution_count": null,
   "metadata": {},
   "outputs": [],
   "source": [
    "tmp = df[( (df[\"green_party_x\"] == 1) & (df[\"green_party_y\"] == 0) & (df[\"main_codes_x\"] == 501) & (df[\"main_codes_y\"] == 416) ) | \n",
    "         ( (df[\"green_party_x\"] == 0) & (df[\"green_party_y\"] == 1) & (df[\"main_codes_x\"] == 416) & (df[\"main_codes_y\"] == 501) )]\n",
    "tmp.shape\n",
    "tmp = tmp.sort_values(by=\"cosine_similarity\")"
   ]
  },
  {
   "cell_type": "code",
   "execution_count": null,
   "metadata": {},
   "outputs": [],
   "source": [
    "tmp.iloc[0:30]"
   ]
  },
  {
   "cell_type": "code",
   "execution_count": null,
   "metadata": {},
   "outputs": [],
   "source": []
  }
 ],
 "metadata": {
  "kernelspec": {
   "display_name": "Python 3",
   "language": "python",
   "name": "python3"
  },
  "language_info": {
   "codemirror_mode": {
    "name": "ipython",
    "version": 3
   },
   "file_extension": ".py",
   "mimetype": "text/x-python",
   "name": "python",
   "nbconvert_exporter": "python",
   "pygments_lexer": "ipython3",
   "version": "3.10.4"
  }
 },
 "nbformat": 4,
 "nbformat_minor": 2
}
