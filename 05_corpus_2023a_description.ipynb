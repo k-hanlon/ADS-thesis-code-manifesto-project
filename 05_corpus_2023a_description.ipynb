{
 "cells": [
  {
   "cell_type": "code",
   "execution_count": null,
   "metadata": {},
   "outputs": [],
   "source": [
    "import pandas as pd\n",
    "import numpy as np\n",
    "import matplotlib.pyplot as plt\n",
    "import seaborn as sns"
   ]
  },
  {
   "cell_type": "code",
   "execution_count": null,
   "metadata": {},
   "outputs": [],
   "source": [
    "# Set display options to show all rows\n",
    "pd.set_option('display.max_rows', None)\n",
    "pd.set_option('display.max_columns', None)\n",
    "pd.set_option('display.max_colwidth', 80)"
   ]
  },
  {
   "cell_type": "code",
   "execution_count": null,
   "metadata": {},
   "outputs": [],
   "source": [
    "df = pd.read_csv(\"data/english_annotated_full_df.csv\")"
   ]
  },
  {
   "cell_type": "code",
   "execution_count": null,
   "metadata": {},
   "outputs": [],
   "source": [
    "df.head(1)"
   ]
  },
  {
   "cell_type": "markdown",
   "metadata": {},
   "source": [
    "Question 1: How many manifestos and quasi sentences in total?"
   ]
  },
  {
   "cell_type": "code",
   "execution_count": null,
   "metadata": {},
   "outputs": [],
   "source": [
    "print(\"Total number q_sentences:\", df.shape[0])\n",
    "print(\"Total number of manifestos:\", len(df[\"manifesto_id\"].unique()))\n"
   ]
  },
  {
   "cell_type": "code",
   "execution_count": null,
   "metadata": {},
   "outputs": [],
   "source": [
    "temp = df.groupby(['countryname']).agg({'manifesto_id': 'nunique', 'date': ['min', 'max']})\n",
    "temp"
   ]
  },
  {
   "cell_type": "code",
   "execution_count": null,
   "metadata": {},
   "outputs": [],
   "source": [
    "# How many documents per party in country:\n",
    "temp = df.groupby(['countryname', 'partyname'])['manifesto_id'].nunique()"
   ]
  },
  {
   "cell_type": "code",
   "execution_count": null,
   "metadata": {},
   "outputs": [],
   "source": [
    "# here you can get the counts for the separat countries\n",
    "temp[\"Ireland\"]"
   ]
  },
  {
   "cell_type": "code",
   "execution_count": null,
   "metadata": {},
   "outputs": [],
   "source": [
    "# how many coders in total?\n",
    "print(\"Total coders:\", len(df[\"coderid\"].unique()))\n",
    "print(\"Average number of manifestos per coder:\", len(df[\"manifesto_id\"].unique())/len(df[\"coderid\"].unique()))"
   ]
  },
  {
   "cell_type": "markdown",
   "metadata": {},
   "source": [
    "Quasi sentences that are way too long (100 words or more): how many? These will be removed\n",
    "Also: get examples"
   ]
  },
  {
   "cell_type": "code",
   "execution_count": null,
   "metadata": {},
   "outputs": [],
   "source": [
    "df_final = df[df[\"q_sentence_words\"] < 100]\n",
    "df_temp = df[df[\"q_sentence_words\"] >= 100]\n",
    "df_temp = df_temp.sort_values(by=\"q_sentence_words\", ascending=False)"
   ]
  },
  {
   "cell_type": "code",
   "execution_count": null,
   "metadata": {},
   "outputs": [],
   "source": [
    "# Filter rows where strings contain a \".\" that is not at the end\n",
    "filtered_df = df[df['q_sentence'].str.contains(r'\\.(?!$)')]"
   ]
  },
  {
   "cell_type": "code",
   "execution_count": null,
   "metadata": {},
   "outputs": [],
   "source": [
    "# this shows we cant just remove q-sentences that contain a \".\" in the middle.\n",
    "pd.set_option('display.max_colwidth', 200)\n",
    "print(filtered_df[\"q_sentence\"])\n",
    "pd.set_option('display.max_colwidth', 80)"
   ]
  },
  {
   "cell_type": "code",
   "execution_count": null,
   "metadata": {},
   "outputs": [],
   "source": [
    "# infos on the longest one as an example:\n",
    "df_temp.head(1)"
   ]
  },
  {
   "cell_type": "code",
   "execution_count": null,
   "metadata": {},
   "outputs": [],
   "source": [
    "# shortest one?\n",
    "df_temp.tail(1)"
   ]
  },
  {
   "cell_type": "code",
   "execution_count": null,
   "metadata": {},
   "outputs": [],
   "source": [
    "# what codes are given here?\n",
    "df_temp[\"main_codes\"].value_counts()"
   ]
  },
  {
   "cell_type": "code",
   "execution_count": null,
   "metadata": {},
   "outputs": [],
   "source": [
    "pd.set_option('display.max_colwidth', None)\n",
    "print(df_temp[df_temp[\"q_sentence_words\"] == 100][\"q_sentence\"])\n",
    "pd.set_option('display.max_colwidth', 80)"
   ]
  },
  {
   "cell_type": "code",
   "execution_count": null,
   "metadata": {},
   "outputs": [],
   "source": [
    "pd.set_option('display.max_colwidth', None)\n",
    "print(df_temp[df_temp[\"q_sentence_words\"] == 1025][\"q_sentence\"])\n",
    "pd.set_option('display.max_colwidth', 80)"
   ]
  },
  {
   "cell_type": "code",
   "execution_count": null,
   "metadata": {},
   "outputs": [],
   "source": [
    "print(\"Number of q_sentences with at least 100 words:\", df_temp.shape[0])\n",
    "print(\"Length of the longest q_sentence:\", max(df_temp[\"q_sentence_words\"]), \"words\")\n"
   ]
  },
  {
   "cell_type": "code",
   "execution_count": null,
   "metadata": {},
   "outputs": [],
   "source": [
    "max(df_temp[\"q_sentence_words\"])"
   ]
  },
  {
   "cell_type": "markdown",
   "metadata": {},
   "source": [
    "Getting final sizes etc:"
   ]
  },
  {
   "cell_type": "code",
   "execution_count": null,
   "metadata": {},
   "outputs": [],
   "source": [
    "df_final.shape"
   ]
  },
  {
   "cell_type": "code",
   "execution_count": null,
   "metadata": {},
   "outputs": [],
   "source": [
    "# how many green and RILE?\n",
    "print(\"Percentage of green quasi sentences:\", df_final[df_final[\"main_codes\"] == 501].shape[0]/df_final.shape[0])\n",
    "print(\"Percentage of left quasi sentences:\", df_final[df_final[\"RILE\"] == 1].shape[0]/df_final.shape[0])\n",
    "print(\"Percentage of right quasi sentences:\", df_final[df_final[\"RILE\"] == 2].shape[0]/df_final.shape[0])\n",
    "print(\"Percentage of neutral quasi sentences:\", df_final[df_final[\"RILE\"] == 0].shape[0]/df_final.shape[0])"
   ]
  },
  {
   "cell_type": "code",
   "execution_count": null,
   "metadata": {},
   "outputs": [],
   "source": [
    "df_final[\"RILE\"].value_counts()"
   ]
  },
  {
   "cell_type": "markdown",
   "metadata": {},
   "source": [
    "From now on, df_final is used, with q_sentences under 100 words\n",
    "\n",
    "What are the top and bottom frequency codes:"
   ]
  },
  {
   "cell_type": "code",
   "execution_count": null,
   "metadata": {},
   "outputs": [],
   "source": [
    "df_final.head(1)"
   ]
  },
  {
   "cell_type": "code",
   "execution_count": null,
   "metadata": {},
   "outputs": [],
   "source": [
    "code_distribution = df_final[\"main_codes\"].value_counts()/df_final.shape[0]\n",
    "code_distribution\n",
    "# create top 5 bottom 5 table from this"
   ]
  },
  {
   "cell_type": "code",
   "execution_count": null,
   "metadata": {},
   "outputs": [],
   "source": [
    "# Create a bar plot\n",
    "plt.figure(figsize=(10, 4))\n",
    "code_distribution.plot(kind='bar')\n",
    "\n",
    "# Add labels and title\n",
    "plt.xlabel('Codes')\n",
    "plt.ylabel('Frequency')\n",
    "plt.title('Distribution of Manifesto Project codes - 2023a Corpus')\n",
    "\n",
    "# Show the plot\n",
    "plt.show()"
   ]
  },
  {
   "cell_type": "code",
   "execution_count": null,
   "metadata": {},
   "outputs": [],
   "source": [
    "# variance of the codes: (is this really helpful?)\n",
    "# Calculate proportions of each main_code within each manifesto_id\n",
    "proportions = df_final.groupby(['manifesto_id', 'main_codes']).size() / df_final.groupby('manifesto_id').size()\n",
    "\n",
    "# Calculate the variance of these proportions across manifesto_ids for each main_code\n",
    "variance_per_main_code = proportions.groupby('main_codes').var()\n",
    "\n",
    "variance_per_main_code"
   ]
  },
  {
   "cell_type": "markdown",
   "metadata": {},
   "source": [
    "Is the criticism true, that longer documents have longer quasi sentences?"
   ]
  },
  {
   "cell_type": "code",
   "execution_count": null,
   "metadata": {},
   "outputs": [],
   "source": [
    "df_final.head(1)"
   ]
  },
  {
   "cell_type": "code",
   "execution_count": null,
   "metadata": {},
   "outputs": [],
   "source": [
    "temp = df.groupby(['manifesto_id']).agg({'q_sentence_words': ['sum', 'mean']})"
   ]
  },
  {
   "cell_type": "code",
   "execution_count": null,
   "metadata": {},
   "outputs": [],
   "source": [
    "pd.set_option('display.max_rows', 10)\n",
    "print(temp[\"q_sentence_words\"])\n",
    "pd.set_option('display.max_rows', None)"
   ]
  },
  {
   "cell_type": "code",
   "execution_count": null,
   "metadata": {},
   "outputs": [],
   "source": [
    "# Scatter plot\n",
    "plt.figure(figsize=(8, 5))  # Adjust the figure size as needed\n",
    "plt.scatter(temp[('q_sentence_words', 'sum')], temp[('q_sentence_words', 'mean')])\n",
    "\n",
    "# Add labels and title\n",
    "plt.xlabel('Total length of manifesto (in words)')\n",
    "plt.ylabel('Average quasi-sentence length (in words)')\n",
    "plt.title('Does manifesto length impact average quasi-sentence length?\\n$r = 0.31$\\n$R^2 = 0.1$')\n",
    "plt.ylim(0, None)\n",
    "\n",
    "# Show the plot\n",
    "plt.grid(True)\n",
    "plt.show()"
   ]
  },
  {
   "cell_type": "code",
   "execution_count": null,
   "metadata": {},
   "outputs": [],
   "source": [
    "corr_coef = temp[('q_sentence_words', 'sum')].corr(temp[('q_sentence_words', 'mean')])\n",
    "print(\"r = \", corr_coef)\n",
    "print(\"r^2 = \", corr_coef*corr_coef)"
   ]
  },
  {
   "cell_type": "code",
   "execution_count": null,
   "metadata": {},
   "outputs": [],
   "source": [
    "# exclude very large outlier:\n",
    "filtered_temp = temp[temp[('q_sentence_words', 'sum')] <= 50000]\n",
    "filtered_temp[('q_sentence_words', 'sum')].corr(filtered_temp[('q_sentence_words', 'mean')])"
   ]
  },
  {
   "cell_type": "code",
   "execution_count": null,
   "metadata": {},
   "outputs": [],
   "source": [
    "# Exclude outliers on both sides\n",
    "# Determine the cutoff points for the top and bottom 5%\n",
    "top_cutoff = temp[('q_sentence_words', 'sum')].quantile(0.95)\n",
    "bottom_cutoff = temp[('q_sentence_words', 'sum')].quantile(0.05)\n",
    "\n",
    "# Filter out rows based on the cutoff points\n",
    "filtered_temp = temp[(temp[('q_sentence_words', 'sum')] >= bottom_cutoff) & \n",
    "                     (temp[('q_sentence_words', 'sum')] <= top_cutoff)]\n",
    "\n",
    "# Calculate correlation coefficient\n",
    "correlation_coefficient = filtered_temp[('q_sentence_words', 'sum')].corr(filtered_temp[('q_sentence_words', 'mean')])\n",
    "correlation_coefficient"
   ]
  },
  {
   "cell_type": "code",
   "execution_count": null,
   "metadata": {},
   "outputs": [],
   "source": [
    "# What about a logarithmic relationship?\n",
    "# Scatter plot with logarithmic transformation\n",
    "plt.figure(figsize=(8, 5))  # Adjust the figure size as needed\n",
    "plt.scatter(np.log(temp[('q_sentence_words', 'sum')]), (temp[('q_sentence_words', 'mean')]))\n",
    "\n",
    "# Add labels and title\n",
    "plt.xlabel('Log of total length of manifesto (in words)')\n",
    "plt.ylabel('Average quasi-sentence length (in words)')\n",
    "plt.title('Does manifesto length impact average quasi-sentence length?\\n$r = 0.49$\\n$R^2 = 0.24$')\n",
    "plt.ylim(0, None)\n",
    "\n",
    "# Show the plot\n",
    "plt.grid(True)\n",
    "plt.show()"
   ]
  },
  {
   "cell_type": "code",
   "execution_count": null,
   "metadata": {},
   "outputs": [],
   "source": [
    "corr_coef_log = np.log(temp[('q_sentence_words', 'sum')]).corr(temp[('q_sentence_words', 'mean')])\n",
    "print(\"r = \", corr_coef_log)\n",
    "print(\"r^2 = \", corr_coef_log*corr_coef_log)"
   ]
  },
  {
   "cell_type": "code",
   "execution_count": null,
   "metadata": {},
   "outputs": [],
   "source": []
  }
 ],
 "metadata": {
  "kernelspec": {
   "display_name": "Python 3",
   "language": "python",
   "name": "python3"
  },
  "language_info": {
   "codemirror_mode": {
    "name": "ipython",
    "version": 3
   },
   "file_extension": ".py",
   "mimetype": "text/x-python",
   "name": "python",
   "nbconvert_exporter": "python",
   "pygments_lexer": "ipython3",
   "version": "3.10.4"
  }
 },
 "nbformat": 4,
 "nbformat_minor": 2
}
